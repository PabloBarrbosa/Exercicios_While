{
  "nbformat": 4,
  "nbformat_minor": 0,
  "metadata": {
    "colab": {
      "provenance": []
    },
    "kernelspec": {
      "name": "python3",
      "display_name": "Python 3"
    },
    "language_info": {
      "name": "python"
    }
  },
  "cells": [
    {
      "cell_type": "code",
      "execution_count": null,
      "metadata": {
        "id": "tOSzpHAgTnj1"
      },
      "outputs": [],
      "source": [
        "nota = float(input(\"Digite uma nota entre zero e dez: \"))\n",
        "while nota < 0 or nota > 10:\n",
        "  nota = float(input(\"Digite uma Nota Válida: \"))\n",
        "print(\"Nota Válida\")"
      ]
    },
    {
      "cell_type": "code",
      "source": [
        "jnome = input(\"Digite Seu Nome: \")\n",
        "senha = input(\"Digite Sua Senha: \")\n",
        "\n",
        "while senha == nome:\n",
        "  print(\"Erro\")\n",
        "\n",
        "  nome =  input(\"Digite Seu Nome Novamente: \")\n",
        "  senha = input(\"Digite Sua Senha Novamente: \")\n",
        "  print(\"Acesso Aprovado!\")"
      ],
      "metadata": {
        "id": "3unuFEeIU7kZ"
      },
      "execution_count": null,
      "outputs": []
    },
    {
      "cell_type": "code",
      "source": [
        "numero = 1\n",
        "\n",
        "while numero <= 10:\n",
        "    print(numero)\n",
        "\n",
        "    numero += 1"
      ],
      "metadata": {
        "id": "DH_kxLOfVMhA"
      },
      "execution_count": null,
      "outputs": []
    },
    {
      "cell_type": "code",
      "source": [
        "numero = 2\n",
        "\n",
        "while numero <= 20:\n",
        "    print(numero)\n",
        "\n",
        "    numero += 2"
      ],
      "metadata": {
        "id": "QC4CS-0tVbSN"
      },
      "execution_count": null,
      "outputs": []
    },
    {
      "cell_type": "code",
      "source": [
        "numero = int(input(\"insira um numero: \"))\n",
        "contador = 1\n",
        "while contador <= numero:\n",
        "  print(contador)\n",
        "  contador += 1"
      ],
      "metadata": {
        "id": "0cDOmqEIWK7R"
      },
      "execution_count": null,
      "outputs": []
    },
    {
      "cell_type": "code",
      "source": [
        "numero = int(input(\"insira um numero: \"))\n",
        "contador = 2\n",
        "while contador <= numero:\n",
        "  print(contador)\n",
        "  contador += 2"
      ],
      "metadata": {
        "id": "ChashgJSXaGl"
      },
      "execution_count": null,
      "outputs": []
    },
    {
      "cell_type": "code",
      "source": [
        "numero = int(input(\"Digite um Número: \"))\n",
        "\n",
        "contador = 1\n",
        "while contador <= 10:\n",
        "  resultado = numero * contador\n",
        "  print(f\"{numero} x {contador} = {resultado}\")\n",
        "  contador += 1"
      ],
      "metadata": {
        "id": "ChajL_0BXu2I"
      },
      "execution_count": null,
      "outputs": []
    },
    {
      "cell_type": "code",
      "source": [
        "senhacorreta = 1234\n",
        "\n",
        "senha = int(input(\"digite sua senha: \"))\n",
        "\n",
        "while senha !=  senhacorreta:\n",
        " print(\"acesso negado: \")\n",
        "\n",
        " senha = int(input(\"digite sua senha: \"))\n",
        " print(\"acesso liberado: \")"
      ],
      "metadata": {
        "id": "qpGsgPSiYuZt"
      },
      "execution_count": null,
      "outputs": []
    },
    {
      "cell_type": "code",
      "source": [
        "soma = 0\n",
        "\n",
        "print(\"Insira Alguns Números. Insira 0 Para Terminar.\")\n",
        "numero = float(input(\"Digite um Número: \"))\n",
        "\n",
        "while numero != 0:\n",
        "    soma += numero\n",
        "    numero = float(input(\"Digite um Número: \"))\n",
        "\n",
        "print(\"A soma Dos Números é:\", soma)"
      ],
      "metadata": {
        "colab": {
          "base_uri": "https://localhost:8080/"
        },
        "id": "tPgeB--pbCx1",
        "outputId": "41ce0674-0096-4da4-b651-f6dfaaa99af9"
      },
      "execution_count": 28,
      "outputs": [
        {
          "output_type": "stream",
          "name": "stdout",
          "text": [
            "Insira Alguns Números. Insira 0 Para Terminar.\n",
            "Digite um Número: 4\n",
            "Digite um Número: 6\n",
            "Digite um Número: 0\n",
            "A soma Dos Números é: 10.0\n"
          ]
        }
      ]
    },
    {
      "cell_type": "code",
      "source": [
        "soma = 0\n",
        "contador = 0\n",
        "\n",
        "print(\"Insira Alguns Números. Digite 0 Para Terminar.\")\n",
        "numero = float(input(\"Digite um Número: \"))\n",
        "\n",
        "while numero != 0:\n",
        "    soma += numero\n",
        "    contador += 1\n",
        "    numero = float(input(\"Digite um Número: \"))\n",
        "\n",
        "if contador == 0:\n",
        "    print(\"Nenhum Número.\")\n",
        "else:\n",
        "    media = soma / contador\n",
        "    print(\"A Média Dos Números é:\", media)"
      ],
      "metadata": {
        "id": "2KagQM05it41"
      },
      "execution_count": null,
      "outputs": []
    },
    {
      "cell_type": "code",
      "source": [
        "numero = float(input(\"Insira um Número. Digite um Número Negativo Para Terminar: \"))\n",
        "\n",
        "maiornumero = numero\n",
        "\n",
        "while numero >= 0:\n",
        "\n",
        "    if numero > maiornumero:\n",
        "        maiornumero = numero\n",
        "\n",
        "    numero = float(input(\"Insira um Número. Digite um Número Negativo Para Parar: \"))\n",
        "\n",
        "if maiornumero < 0:\n",
        "    print(\"Nenhum Número\")\n",
        "else:\n",
        "    print(\"O Maior Número é:\", maiornumero)"
      ],
      "metadata": {
        "id": "UiJcZfzYmp09"
      },
      "execution_count": null,
      "outputs": []
    }
  ]
}